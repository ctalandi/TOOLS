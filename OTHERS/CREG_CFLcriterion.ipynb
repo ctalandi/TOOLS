{
 "cells": [
  {
   "cell_type": "markdown",
   "id": "8bdcdef9-abc5-43e0-a4a1-c15306d3117c",
   "metadata": {},
   "source": [
    "> # Compute the CFL criteria for CREG configurations"
   ]
  },
  {
   "cell_type": "code",
   "execution_count": 1,
   "id": "11f0c231",
   "metadata": {},
   "outputs": [],
   "source": [
    "import xarray as xr\n",
    "import pandas as pd\n",
    "import numpy as np\n",
    "import matplotlib.pylab as plt\n",
    "\n",
    "%matplotlib inline"
   ]
  },
  {
   "cell_type": "code",
   "execution_count": 5,
   "id": "f9dc8900-80e4-401b-adb1-dcd34b55edb4",
   "metadata": {},
   "outputs": [],
   "source": [
    "def CFL_BiH(zdeltaX,zdeltaT):\n",
    "    B = np.power(zdeltaX,4)/(128.*zdeltaT)     \n",
    "    return B\n",
    "def CFL_H(zdeltaX,zdeltaT):\n",
    "    A = np.power(zdeltaX,2)/(16.*zdeltaT)      \n",
    "    return A"
   ]
  },
  {
   "cell_type": "code",
   "execution_count": 9,
   "id": "3cca283f-387b-47c1-8a38-f0ca2ef82770",
   "metadata": {},
   "outputs": [
    {
     "name": "stdout",
     "output_type": "stream",
     "text": [
      " Ocean model parameters\n",
      " #######################\n",
      "\n",
      " For the folowing grid:  >>>>>>     D_x= 5000.0  \\& D_t= 720.0\n",
      "\n",
      "           #  Bi-Harmonic should be <  6.781684027777778 x10^9 m4 s-1\n",
      "           #     Harmonic should be <  2170.1388888888887  m2 s-1\n",
      "\n",
      "\n",
      " For the folowing grid:  >>>>>>     D_x= 5000.0  \\& D_t= 1440.0\n",
      "\n",
      "           #  Bi-Harmonic should be <  3.390842013888889 x10^9 m4 s-1\n",
      "           #     Harmonic should be <  1085.0694444444443  m2 s-1\n",
      "\n"
     ]
    }
   ],
   "source": [
    "n_grids=2\n",
    "rn_rdt=np.zeros(n_grids)  ; nn_fsbc=np.zeros(n_grids)  ; deltaX=np.zeros(n_grids)\n",
    "\n",
    "#rn_rdt[0] = 360.    ; rn_rdt[1]=90.   \n",
    "#rn_rdt[0] = 180.    ; rn_rdt[1]=36.   \n",
    "rn_rdt[0] = 720.    ; rn_rdt[1]=1440.\n",
    "nn_fsbc[0] = 1      ; nn_fsbc[1]=1\n",
    "deltaX[0] = 5000.   ; deltaX[1]=5000.\n",
    "\n",
    "print(' Ocean model parameters')\n",
    "print(' #######################')\n",
    "        \n",
    "for lev in np.arange(n_grids) :\n",
    "        print() \n",
    "        print(' For the folowing grid:  >>>>>>     D_x=', deltaX[lev], ' \\& D_t=',rn_rdt[lev])\n",
    "        print()\n",
    "        print('           #  Bi-Harmonic should be < ', CFL_BiH(deltaX[lev],rn_rdt[lev])*1.e-9 , 'x10^9 m4 s-1')\n",
    "        print('           #     Harmonic should be < ', CFL_H(deltaX[lev],rn_rdt[lev]) , ' m2 s-1')\n",
    "        print()"
   ]
  },
  {
   "cell_type": "code",
   "execution_count": null,
   "id": "c9f33ce1",
   "metadata": {},
   "outputs": [],
   "source": []
  },
  {
   "cell_type": "code",
   "execution_count": null,
   "id": "061c1ae1",
   "metadata": {},
   "outputs": [],
   "source": []
  }
 ],
 "metadata": {
  "kernelspec": {
   "display_name": "Python 3 (ipykernel)",
   "language": "python",
   "name": "python3"
  },
  "language_info": {
   "codemirror_mode": {
    "name": "ipython",
    "version": 3
   },
   "file_extension": ".py",
   "mimetype": "text/x-python",
   "name": "python",
   "nbconvert_exporter": "python",
   "pygments_lexer": "ipython3",
   "version": "3.10.8"
  }
 },
 "nbformat": 4,
 "nbformat_minor": 5
}
