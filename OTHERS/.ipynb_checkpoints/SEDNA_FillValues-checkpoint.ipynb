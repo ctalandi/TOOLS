{
 "cells": [
  {
   "cell_type": "code",
   "execution_count": 3,
   "id": "db8973f6",
   "metadata": {},
   "outputs": [],
   "source": [
    "#!/usr/bin/env python\n",
    "import matplotlib.pyplot as plt\n",
    "import numpy as np\n",
    "from matplotlib import rc\n",
    "from matplotlib import rcParams\n",
    "from mpl_toolkits.basemap import Basemap\n",
    "import matplotlib as mpl\n",
    "import xarray as xr "
   ]
  },
  {
   "cell_type": "code",
   "execution_count": 1,
   "id": "40a9f008",
   "metadata": {},
   "outputs": [],
   "source": [
    "main_dir='/data0/project/drakkar/CONFIGS/ARC60/TMPDIR/'\n",
    "\n",
    "\n",
    "lvar='u10'\n",
    "filename='SEDNA_ERA5_u10_y2009m01s01_t0_Z.nc'\n",
    "fileout='test.nc'"
   ]
  },
  {
   "cell_type": "code",
   "execution_count": 7,
   "id": "adf40aef",
   "metadata": {},
   "outputs": [],
   "source": [
    "ds_w10=xr.open_dataset(main_dir+filename)\n",
    "\n",
    "# In[102]:\n",
    "\n",
    "\n",
    "ds_Windout=xr.Dataset()\n",
    "ds_Windout[lvar]=(('time','y','x'), xr.where( np.isnan(ds_w10[lvar]) ,-9999.,ds_w10[lvar]) )\n",
    "ds_Windout[lvar].attrs['_FillValue']=-9999.\n",
    "\n",
    "ds_Windout.to_netcdf(main_dir+fileout,unlimited_dims={'time':True})\n",
    "\n",
    "\n",
    "# In[ ]:"
   ]
  },
  {
   "cell_type": "code",
   "execution_count": null,
   "id": "dd2e902d",
   "metadata": {},
   "outputs": [],
   "source": []
  }
 ],
 "metadata": {
  "kernelspec": {
   "display_name": "Python 3 (ipykernel)",
   "language": "python",
   "name": "python3"
  },
  "language_info": {
   "codemirror_mode": {
    "name": "ipython",
    "version": 3
   },
   "file_extension": ".py",
   "mimetype": "text/x-python",
   "name": "python",
   "nbconvert_exporter": "python",
   "pygments_lexer": "ipython3",
   "version": "3.8.13"
  }
 },
 "nbformat": 4,
 "nbformat_minor": 5
}
