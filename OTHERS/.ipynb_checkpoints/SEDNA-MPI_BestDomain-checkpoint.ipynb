{
 "cells": [
  {
   "cell_type": "markdown",
   "metadata": {},
   "source": [
    "# SHIFT THE GEOGRAPHICAL & SCALE FACTORS "
   ]
  },
  {
   "cell_type": "code",
   "execution_count": 2,
   "metadata": {},
   "outputs": [],
   "source": [
    "import xarray as xr\n",
    "import pandas as pd\n",
    "import numpy as np\n",
    "import matplotlib.pylab as plt\n",
    "import matplotlib as mpl\n",
    "from matplotlib import rcParams\n",
    "#from mpl_toolkits.basemap import Basemap\n",
    "\n",
    "%matplotlib inline"
   ]
  },
  {
   "cell_type": "markdown",
   "metadata": {},
   "source": [
    ">> # START"
   ]
  },
  {
   "cell_type": "code",
   "execution_count": 3,
   "metadata": {},
   "outputs": [
    {
     "name": "stdout",
     "output_type": "stream",
     "text": [
      "/Users/ctalandi/SEDNA-TEMP\r\n"
     ]
    }
   ],
   "source": [
    "!pwd"
   ]
  },
  {
   "cell_type": "code",
   "execution_count": 4,
   "metadata": {},
   "outputs": [
    {
     "name": "stdout",
     "output_type": "stream",
     "text": [
      "Thu Apr  1 17:58:31 CEST 2021\r\n"
     ]
    }
   ],
   "source": [
    "!date"
   ]
  },
  {
   "cell_type": "code",
   "execution_count": 5,
   "metadata": {},
   "outputs": [],
   "source": [
    "core_oce=[ 18011., 17929, 17848, 17822, 17725, 17652, 17634, 17584, 17537, 17421, 17335, 17242, 17125, 17096, 17078, 16963, 16950, 16864, 16799, 16790, 16645, 16624, 16564, 16532, 16427, 16340, 16336, 16290, 16230, 16132, 16082, 16039, 15974, 15964, 15847, 15807, 15714, 15640, 15618, 15521, 15483, 15433, 15368, 15355, 15327, 15246, 15213, 15153] "
   ]
  },
  {
   "cell_type": "code",
   "execution_count": 6,
   "metadata": {},
   "outputs": [],
   "source": [
    "moce_n1=124.\n",
    "moce_n2=125."
   ]
  },
  {
   "cell_type": "code",
   "execution_count": 17,
   "metadata": {},
   "outputs": [],
   "source": [
    "np.mod?"
   ]
  },
  {
   "cell_type": "code",
   "execution_count": 23,
   "metadata": {},
   "outputs": [
    {
     "data": {
      "text/plain": [
       "5.0"
      ]
     },
     "execution_count": 23,
     "metadata": {},
     "output_type": "execute_result"
    }
   ],
   "source": [
    "np.round(21./5.)+(21.%5. > 0)"
   ]
  },
  {
   "cell_type": "code",
   "execution_count": 38,
   "metadata": {},
   "outputs": [
    {
     "data": {
      "text/plain": [
       "True"
      ]
     },
     "execution_count": 38,
     "metadata": {},
     "output_type": "execute_result"
    }
   ],
   "source": [
    "17929.0%124. > 1"
   ]
  },
  {
   "cell_type": "code",
   "execution_count": 74,
   "metadata": {},
   "outputs": [
    {
     "data": {
      "text/plain": [
       "17856"
      ]
     },
     "execution_count": 74,
     "metadata": {},
     "output_type": "execute_result"
    }
   ],
   "source": [
    "#17929-\n",
    "np.int(np.floor((np.float(17929.0)/124.))*124.)"
   ]
  },
  {
   "cell_type": "code",
   "execution_count": 79,
   "metadata": {},
   "outputs": [
    {
     "name": "stdout",
     "output_type": "stream",
     "text": [
      "With 124.0 ocean cores / node\n",
      "\n",
      "Core: 18011   ft-nodes: 145.25  - nodes: 146 - xios: 580.0 - Last node Oce cores: 31  WasteCor: 97\n",
      "Core: 17929   ft-nodes: 144.58870967741936  - nodes: 145 - xios: 576.0 - Last node Oce cores: 73  WasteCor: 55\n",
      "Core: 17848   ft-nodes: 143.93548387096774  - nodes: 144 - xios: 572.0 - Last node Oce cores: 116  WasteCor: 12\n",
      "Core: 17822   ft-nodes: 143.7258064516129  - nodes: 144 - xios: 572.0 - Last node Oce cores: 90  WasteCor: 38\n",
      "Core: 17725   ft-nodes: 142.94354838709677  - nodes: 143 - xios: 568.0 - Last node Oce cores: 117  WasteCor: 11\n",
      "Core: 17652   ft-nodes: 142.3548387096774  - nodes: 143 - xios: 568.0 - Last node Oce cores: 44  WasteCor: 84\n",
      "Core: 17634   ft-nodes: 142.20967741935485  - nodes: 143 - xios: 568.0 - Last node Oce cores: 26  WasteCor: 102\n",
      "Core: 17584   ft-nodes: 141.80645161290323  - nodes: 142 - xios: 564.0 - Last node Oce cores: 100  WasteCor: 28\n",
      "Core: 17537   ft-nodes: 141.42741935483872  - nodes: 142 - xios: 564.0 - Last node Oce cores: 53  WasteCor: 75\n",
      "Core: 17421   ft-nodes: 140.49193548387098  - nodes: 141 - xios: 560.0 - Last node Oce cores: 61  WasteCor: 67\n",
      "Core: 17335   ft-nodes: 139.7983870967742  - nodes: 140 - xios: 556.0 - Last node Oce cores: 99  WasteCor: 29\n",
      "Core: 17242   ft-nodes: 139.0483870967742  - nodes: 140 - xios: 556.0 - Last node Oce cores: 6  WasteCor: 122\n",
      "Core: 17125   ft-nodes: 138.1048387096774  - nodes: 139 - xios: 552.0 - Last node Oce cores: 13  WasteCor: 115\n",
      "Core: 17096   ft-nodes: 137.8709677419355  - nodes: 138 - xios: 548.0 - Last node Oce cores: 108  WasteCor: 20\n",
      "Core: 17078   ft-nodes: 137.7258064516129  - nodes: 138 - xios: 548.0 - Last node Oce cores: 90  WasteCor: 38\n",
      "Core: 16963   ft-nodes: 136.7983870967742  - nodes: 137 - xios: 544.0 - Last node Oce cores: 99  WasteCor: 29\n",
      "Core: 16950   ft-nodes: 136.69354838709677  - nodes: 137 - xios: 544.0 - Last node Oce cores: 86  WasteCor: 42\n",
      "Core: 16864   ft-nodes: 136.0  - nodes: 136 - xios: 544.0 - Last node Oce cores: 0  WasteCor: 128\n",
      "Core: 16799   ft-nodes: 135.4758064516129  - nodes: 136 - xios: 540.0 - Last node Oce cores: 59  WasteCor: 69\n",
      "Core: 16790   ft-nodes: 135.40322580645162  - nodes: 136 - xios: 540.0 - Last node Oce cores: 50  WasteCor: 78\n",
      "Core: 16645   ft-nodes: 134.23387096774192  - nodes: 135 - xios: 536.0 - Last node Oce cores: 29  WasteCor: 99\n",
      "Core: 16624   ft-nodes: 134.06451612903226  - nodes: 135 - xios: 536.0 - Last node Oce cores: 8  WasteCor: 120\n",
      "Core: 16564   ft-nodes: 133.58064516129033  - nodes: 134 - xios: 532.0 - Last node Oce cores: 72  WasteCor: 56\n",
      "Core: 16532   ft-nodes: 133.32258064516128  - nodes: 134 - xios: 532.0 - Last node Oce cores: 40  WasteCor: 88\n",
      "Core: 16427   ft-nodes: 132.4758064516129  - nodes: 133 - xios: 528.0 - Last node Oce cores: 59  WasteCor: 69\n",
      "Core: 16340   ft-nodes: 131.7741935483871  - nodes: 132 - xios: 524.0 - Last node Oce cores: 96  WasteCor: 32\n",
      "Core: 16336   ft-nodes: 131.74193548387098  - nodes: 132 - xios: 524.0 - Last node Oce cores: 92  WasteCor: 36\n",
      "Core: 16290   ft-nodes: 131.3709677419355  - nodes: 132 - xios: 524.0 - Last node Oce cores: 46  WasteCor: 82\n",
      "Core: 16230   ft-nodes: 130.88709677419354  - nodes: 131 - xios: 520.0 - Last node Oce cores: 110  WasteCor: 18\n",
      "Core: 16132   ft-nodes: 130.09677419354838  - nodes: 131 - xios: 520.0 - Last node Oce cores: 12  WasteCor: 116\n",
      "Core: 16082   ft-nodes: 129.69354838709677  - nodes: 130 - xios: 516.0 - Last node Oce cores: 86  WasteCor: 42\n",
      "Core: 16039   ft-nodes: 129.34677419354838  - nodes: 130 - xios: 516.0 - Last node Oce cores: 43  WasteCor: 85\n",
      "Core: 15974   ft-nodes: 128.82258064516128  - nodes: 129 - xios: 512.0 - Last node Oce cores: 102  WasteCor: 26\n",
      "Core: 15964   ft-nodes: 128.74193548387098  - nodes: 129 - xios: 512.0 - Last node Oce cores: 92  WasteCor: 36\n",
      "Core: 15847   ft-nodes: 127.79838709677419  - nodes: 128 - xios: 508.0 - Last node Oce cores: 99  WasteCor: 29\n",
      "Core: 15807   ft-nodes: 127.4758064516129  - nodes: 128 - xios: 508.0 - Last node Oce cores: 59  WasteCor: 69\n",
      "Core: 15714   ft-nodes: 126.7258064516129  - nodes: 127 - xios: 504.0 - Last node Oce cores: 90  WasteCor: 38\n",
      "Core: 15640   ft-nodes: 126.12903225806451  - nodes: 127 - xios: 504.0 - Last node Oce cores: 16  WasteCor: 112\n",
      "Core: 15618   ft-nodes: 125.95161290322581  - nodes: 126 - xios: 500.0 - Last node Oce cores: 118  WasteCor: 10\n",
      "Core: 15521   ft-nodes: 125.16935483870968  - nodes: 126 - xios: 500.0 - Last node Oce cores: 21  WasteCor: 107\n",
      "Core: 15483   ft-nodes: 124.86290322580645  - nodes: 125 - xios: 496.0 - Last node Oce cores: 107  WasteCor: 21\n",
      "Core: 15433   ft-nodes: 124.45967741935483  - nodes: 125 - xios: 496.0 - Last node Oce cores: 57  WasteCor: 71\n",
      "Core: 15368   ft-nodes: 123.93548387096774  - nodes: 124 - xios: 492.0 - Last node Oce cores: 116  WasteCor: 12\n",
      "Core: 15355   ft-nodes: 123.83064516129032  - nodes: 124 - xios: 492.0 - Last node Oce cores: 103  WasteCor: 25\n",
      "Core: 15327   ft-nodes: 123.60483870967742  - nodes: 124 - xios: 492.0 - Last node Oce cores: 75  WasteCor: 53\n",
      "Core: 15246   ft-nodes: 122.95161290322581  - nodes: 123 - xios: 488.0 - Last node Oce cores: 118  WasteCor: 10\n",
      "Core: 15213   ft-nodes: 122.68548387096774  - nodes: 123 - xios: 488.0 - Last node Oce cores: 85  WasteCor: 43\n",
      "Core: 15153   ft-nodes: 122.20161290322581  - nodes: 123 - xios: 488.0 - Last node Oce cores: 25  WasteCor: 103\n"
     ]
    }
   ],
   "source": [
    "eff_oce=moce_n1\n",
    "print(\"With\",eff_oce,\"ocean cores / node\")\n",
    "print()\n",
    "for core in core_oce:\n",
    " \n",
    "    Tnodes=np.int(np.float(core)/eff_oce)+(np.float(core)%eff_oce >0 )\n",
    "    LastNode_oce=(core)-np.int(np.floor((np.float(core)/eff_oce))*eff_oce)\n",
    "    XiosC=np.int(np.float(core)/eff_oce)*(128.-eff_oce) \n",
    "    print('Core:',core, '  ft-nodes:', np.float(core)/eff_oce, \\\n",
    "          ' - nodes:', Tnodes ,'- xios:', XiosC, '- Last node Oce cores:',LastNode_oce, ' WasteCor:',128-LastNode_oce )"
   ]
  },
  {
   "cell_type": "code",
   "execution_count": 80,
   "metadata": {},
   "outputs": [
    {
     "name": "stdout",
     "output_type": "stream",
     "text": [
      "With 125.0 ocean cores / node\n",
      "\n",
      "Core: 18011   ft-nodes: 144.088  - nodes: 145 - xios: 432.0 - Last node Oce cores: 11  WasteCor: 117\n",
      "Core: 17929   ft-nodes: 143.432  - nodes: 144 - xios: 429.0 - Last node Oce cores: 54  WasteCor: 74\n",
      "Core: 17848   ft-nodes: 142.784  - nodes: 143 - xios: 426.0 - Last node Oce cores: 98  WasteCor: 30\n",
      "Core: 17822   ft-nodes: 142.576  - nodes: 143 - xios: 426.0 - Last node Oce cores: 72  WasteCor: 56\n",
      "Core: 17725   ft-nodes: 141.8  - nodes: 142 - xios: 423.0 - Last node Oce cores: 100  WasteCor: 28\n",
      "Core: 17652   ft-nodes: 141.216  - nodes: 142 - xios: 423.0 - Last node Oce cores: 27  WasteCor: 101\n",
      "Core: 17634   ft-nodes: 141.072  - nodes: 142 - xios: 423.0 - Last node Oce cores: 9  WasteCor: 119\n",
      "Core: 17584   ft-nodes: 140.672  - nodes: 141 - xios: 420.0 - Last node Oce cores: 84  WasteCor: 44\n",
      "Core: 17537   ft-nodes: 140.296  - nodes: 141 - xios: 420.0 - Last node Oce cores: 37  WasteCor: 91\n",
      "Core: 17421   ft-nodes: 139.368  - nodes: 140 - xios: 417.0 - Last node Oce cores: 46  WasteCor: 82\n",
      "Core: 17335   ft-nodes: 138.68  - nodes: 139 - xios: 414.0 - Last node Oce cores: 85  WasteCor: 43\n",
      "Core: 17242   ft-nodes: 137.936  - nodes: 138 - xios: 411.0 - Last node Oce cores: 117  WasteCor: 11\n",
      "Core: 17125   ft-nodes: 137.0  - nodes: 137 - xios: 411.0 - Last node Oce cores: 0  WasteCor: 128\n",
      "Core: 17096   ft-nodes: 136.768  - nodes: 137 - xios: 408.0 - Last node Oce cores: 96  WasteCor: 32\n",
      "Core: 17078   ft-nodes: 136.624  - nodes: 137 - xios: 408.0 - Last node Oce cores: 78  WasteCor: 50\n",
      "Core: 16963   ft-nodes: 135.704  - nodes: 136 - xios: 405.0 - Last node Oce cores: 88  WasteCor: 40\n",
      "Core: 16950   ft-nodes: 135.6  - nodes: 136 - xios: 405.0 - Last node Oce cores: 75  WasteCor: 53\n",
      "Core: 16864   ft-nodes: 134.912  - nodes: 135 - xios: 402.0 - Last node Oce cores: 114  WasteCor: 14\n",
      "Core: 16799   ft-nodes: 134.392  - nodes: 135 - xios: 402.0 - Last node Oce cores: 49  WasteCor: 79\n",
      "Core: 16790   ft-nodes: 134.32  - nodes: 135 - xios: 402.0 - Last node Oce cores: 40  WasteCor: 88\n",
      "Core: 16645   ft-nodes: 133.16  - nodes: 134 - xios: 399.0 - Last node Oce cores: 20  WasteCor: 108\n",
      "Core: 16624   ft-nodes: 132.992  - nodes: 133 - xios: 396.0 - Last node Oce cores: 124  WasteCor: 4\n",
      "Core: 16564   ft-nodes: 132.512  - nodes: 133 - xios: 396.0 - Last node Oce cores: 64  WasteCor: 64\n",
      "Core: 16532   ft-nodes: 132.256  - nodes: 133 - xios: 396.0 - Last node Oce cores: 32  WasteCor: 96\n",
      "Core: 16427   ft-nodes: 131.416  - nodes: 132 - xios: 393.0 - Last node Oce cores: 52  WasteCor: 76\n",
      "Core: 16340   ft-nodes: 130.72  - nodes: 131 - xios: 390.0 - Last node Oce cores: 90  WasteCor: 38\n",
      "Core: 16336   ft-nodes: 130.688  - nodes: 131 - xios: 390.0 - Last node Oce cores: 86  WasteCor: 42\n",
      "Core: 16290   ft-nodes: 130.32  - nodes: 131 - xios: 390.0 - Last node Oce cores: 40  WasteCor: 88\n",
      "Core: 16230   ft-nodes: 129.84  - nodes: 130 - xios: 387.0 - Last node Oce cores: 105  WasteCor: 23\n",
      "Core: 16132   ft-nodes: 129.056  - nodes: 130 - xios: 387.0 - Last node Oce cores: 7  WasteCor: 121\n",
      "Core: 16082   ft-nodes: 128.656  - nodes: 129 - xios: 384.0 - Last node Oce cores: 82  WasteCor: 46\n",
      "Core: 16039   ft-nodes: 128.312  - nodes: 129 - xios: 384.0 - Last node Oce cores: 39  WasteCor: 89\n",
      "Core: 15974   ft-nodes: 127.792  - nodes: 128 - xios: 381.0 - Last node Oce cores: 99  WasteCor: 29\n",
      "Core: 15964   ft-nodes: 127.712  - nodes: 128 - xios: 381.0 - Last node Oce cores: 89  WasteCor: 39\n",
      "Core: 15847   ft-nodes: 126.776  - nodes: 127 - xios: 378.0 - Last node Oce cores: 97  WasteCor: 31\n",
      "Core: 15807   ft-nodes: 126.456  - nodes: 127 - xios: 378.0 - Last node Oce cores: 57  WasteCor: 71\n",
      "Core: 15714   ft-nodes: 125.712  - nodes: 126 - xios: 375.0 - Last node Oce cores: 89  WasteCor: 39\n",
      "Core: 15640   ft-nodes: 125.12  - nodes: 126 - xios: 375.0 - Last node Oce cores: 15  WasteCor: 113\n",
      "Core: 15618   ft-nodes: 124.944  - nodes: 125 - xios: 372.0 - Last node Oce cores: 118  WasteCor: 10\n",
      "Core: 15521   ft-nodes: 124.168  - nodes: 125 - xios: 372.0 - Last node Oce cores: 21  WasteCor: 107\n",
      "Core: 15483   ft-nodes: 123.864  - nodes: 124 - xios: 369.0 - Last node Oce cores: 108  WasteCor: 20\n",
      "Core: 15433   ft-nodes: 123.464  - nodes: 124 - xios: 369.0 - Last node Oce cores: 58  WasteCor: 70\n",
      "Core: 15368   ft-nodes: 122.944  - nodes: 123 - xios: 366.0 - Last node Oce cores: 118  WasteCor: 10\n",
      "Core: 15355   ft-nodes: 122.84  - nodes: 123 - xios: 366.0 - Last node Oce cores: 105  WasteCor: 23\n",
      "Core: 15327   ft-nodes: 122.616  - nodes: 123 - xios: 366.0 - Last node Oce cores: 77  WasteCor: 51\n",
      "Core: 15246   ft-nodes: 121.968  - nodes: 122 - xios: 363.0 - Last node Oce cores: 121  WasteCor: 7\n",
      "Core: 15213   ft-nodes: 121.704  - nodes: 122 - xios: 363.0 - Last node Oce cores: 88  WasteCor: 40\n",
      "Core: 15153   ft-nodes: 121.224  - nodes: 122 - xios: 363.0 - Last node Oce cores: 28  WasteCor: 100\n"
     ]
    }
   ],
   "source": [
    "eff_oce=moce_n2\n",
    "print(\"With\",eff_oce,\"ocean cores / node\")\n",
    "print()\n",
    "for core in core_oce:\n",
    " \n",
    "    Tnodes=np.int(np.float(core)/eff_oce)+(np.float(core)%eff_oce >0 )\n",
    "    LastNode_oce=(core)-np.int(np.floor((np.float(core)/eff_oce))*eff_oce)\n",
    "    XiosC=np.int(np.float(core)/eff_oce)*(128.-eff_oce) \n",
    "    print('Core:',core, '  ft-nodes:', np.float(core)/eff_oce, \\\n",
    "          ' - nodes:', Tnodes ,'- xios:', XiosC, '- Last node Oce cores:',LastNode_oce, ' WasteCor:',128-LastNode_oce )"
   ]
  },
  {
   "cell_type": "code",
   "execution_count": 30,
   "metadata": {},
   "outputs": [
    {
     "data": {
      "text/plain": [
       "125.12"
      ]
     },
     "execution_count": 30,
     "metadata": {},
     "output_type": "execute_result"
    }
   ],
   "source": [
    "15640./125."
   ]
  },
  {
   "cell_type": "code",
   "execution_count": 33,
   "metadata": {},
   "outputs": [
    {
     "data": {
      "text/plain": [
       "-15"
      ]
     },
     "execution_count": 33,
     "metadata": {},
     "output_type": "execute_result"
    }
   ],
   "source": [
    "125*125-15640"
   ]
  },
  {
   "cell_type": "code",
   "execution_count": 34,
   "metadata": {},
   "outputs": [
    {
     "data": {
      "text/plain": [
       "375"
      ]
     },
     "execution_count": 34,
     "metadata": {},
     "output_type": "execute_result"
    }
   ],
   "source": [
    "125*3"
   ]
  },
  {
   "cell_type": "code",
   "execution_count": 39,
   "metadata": {},
   "outputs": [
    {
     "data": {
      "text/plain": [
       "132.992"
      ]
     },
     "execution_count": 39,
     "metadata": {},
     "output_type": "execute_result"
    }
   ],
   "source": [
    "16624./125."
   ]
  },
  {
   "cell_type": "code",
   "execution_count": 54,
   "metadata": {},
   "outputs": [
    {
     "data": {
      "text/plain": [
       "-99.0"
      ]
     },
     "execution_count": 54,
     "metadata": {},
     "output_type": "execute_result"
    }
   ],
   "source": [
    "127.*125.-15974"
   ]
  },
  {
   "cell_type": "code",
   "execution_count": 56,
   "metadata": {},
   "outputs": [
    {
     "data": {
      "text/plain": [
       "26"
      ]
     },
     "execution_count": 56,
     "metadata": {},
     "output_type": "execute_result"
    }
   ],
   "source": [
    "128-102"
   ]
  },
  {
   "cell_type": "code",
   "execution_count": 44,
   "metadata": {},
   "outputs": [
    {
     "data": {
      "text/plain": [
       "-124"
      ]
     },
     "execution_count": 44,
     "metadata": {},
     "output_type": "execute_result"
    }
   ],
   "source": [
    "*125-16624"
   ]
  },
  {
   "cell_type": "code",
   "execution_count": 48,
   "metadata": {},
   "outputs": [
    {
     "data": {
      "text/plain": [
       "0.9765625"
      ]
     },
     "execution_count": 48,
     "metadata": {},
     "output_type": "execute_result"
    }
   ],
   "source": [
    "125/128"
   ]
  },
  {
   "cell_type": "code",
   "execution_count": 68,
   "metadata": {},
   "outputs": [
    {
     "data": {
      "text/plain": [
       "118"
      ]
     },
     "execution_count": 68,
     "metadata": {},
     "output_type": "execute_result"
    }
   ],
   "source": [
    "(15246-124*122)#+4-128"
   ]
  },
  {
   "cell_type": "code",
   "execution_count": null,
   "metadata": {},
   "outputs": [],
   "source": []
  },
  {
   "cell_type": "markdown",
   "metadata": {},
   "source": [
    "# Best decomposition choices "
   ]
  },
  {
   "cell_type": "code",
   "execution_count": 69,
   "metadata": {},
   "outputs": [],
   "source": [
    "# nb_cores oce:  16864, land domains excluded:  12256 (42.1%), largest oce domain:      1634 (     43 x     38 )\n",
    "# nb_cores oce:  15974, land domains excluded:  11578 (42.0%), largest oce domain:      1722 (     42 x     41 )\n",
    "# nb_cores oce:  15246, land domains excluded:  10994 (41.9%), largest oce domain:      1806 (     42 x     43 )            "
   ]
  },
  {
   "cell_type": "markdown",
   "metadata": {},
   "source": [
    "- nb_cores oce:  16864, land domains excluded:  12256 (42.1%), largest oce domain:      1634 (     43 x     38 ) >>>> jpni=160 ; jpnj=182 <br>\n",
    "(125 ocean cores + 3 XIOS cores / nodes >> 133 nodes + 399 XIOS cores leaving only 1 CPU alone <br>\n",
    "(124 ocean cores + 4 XIOS cores / nodes >> 136 nodes + 544 XIOS cores"
   ]
  },
  {
   "cell_type": "markdown",
   "metadata": {},
   "source": [
    "- nb_cores oce:  15974, land domains excluded:  11578 (42.0%), largest oce domain:      1722 (     42 x     41 ) >>>> jpni= ; jpnj=   <br>\n",
    "(125 ocean cores + 3 XIOS cores / nodes >> 128 nodes + 384 XIOS cores leaving 26 CPUs alone <br>\n",
    "(124 ocean cores + 4 XIOS cores / nodes >> 129 nodes + 544 XIOS cores leaving 22 CPUs alone <br>"
   ]
  },
  {
   "cell_type": "markdown",
   "metadata": {},
   "source": [
    "- nb_cores oce:  15246, land domains excluded:  10994 (41.9%), largest oce domain:      1806 (     42 x     43 ) <br>\n",
    "(125 ocean cores + 3 XIOS cores / nodes >>  122 nodes + 366 XIOS cores leaving 4 CPUs alone NOT ENOUGH FOR XIOS ?<br>\n",
    "(124 ocean cores + 4 XIOS cores / nodes >>  123 nodes + 492 XIOS cores leaving 6 CPUs alone  <br>"
   ]
  },
  {
   "cell_type": "code",
   "execution_count": null,
   "metadata": {},
   "outputs": [],
   "source": []
  }
 ],
 "metadata": {
  "anaconda-cloud": {},
  "kernelspec": {
   "display_name": "Python 3",
   "language": "python",
   "name": "python3"
  },
  "language_info": {
   "codemirror_mode": {
    "name": "ipython",
    "version": 3
   },
   "file_extension": ".py",
   "mimetype": "text/x-python",
   "name": "python",
   "nbconvert_exporter": "python",
   "pygments_lexer": "ipython3",
   "version": "3.8.3"
  }
 },
 "nbformat": 4,
 "nbformat_minor": 4
}
