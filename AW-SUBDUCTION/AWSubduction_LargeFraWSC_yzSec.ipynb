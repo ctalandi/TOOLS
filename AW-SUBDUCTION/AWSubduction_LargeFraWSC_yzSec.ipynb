{
 "cells": [
  {
   "cell_type": "markdown",
   "metadata": {},
   "source": [
    "# Explore CREG025.L75 experiments to assess the AW subduction process \n",
    "> ## This script allows to compute Heat flux Time series through 3 sections:\n",
    ">> ### Extreme North of the LargeFraWSC box\n",
    ">> ### Fram Strait within LargeFraWSC box\n",
    ">> ### Southern strait of the LargeFraWSC box"
   ]
  },
  {
   "cell_type": "code",
   "execution_count": 53,
   "metadata": {
    "scrolled": true
   },
   "outputs": [],
   "source": [
    "import xarray as xr\n",
    "import pandas as pd\n",
    "import numpy as np\n",
    "import matplotlib.pylab as plt\n",
    "\n",
    "%matplotlib inline"
   ]
  },
  {
   "cell_type": "code",
   "execution_count": 54,
   "metadata": {},
   "outputs": [],
   "source": [
    "s_year=1980 ; e_year=2015\n",
    "RYEAR=str(s_year)+'-'+str(e_year)"
   ]
  },
  {
   "cell_type": "code",
   "execution_count": 55,
   "metadata": {},
   "outputs": [],
   "source": [
    "CONFIG='CREG025.L75'   ; CASE=''\n",
    "CONFCASE=CONFIG"
   ]
  },
  {
   "cell_type": "code",
   "execution_count": 56,
   "metadata": {},
   "outputs": [],
   "source": [
    "# List of GS± experiments names:\n",
    "case_Ref='BVHNTMXP'   #; case_Ref='BCTGE27NTMX'  ;  case_Ref='BVHNTMXD'"
   ]
  },
  {
   "cell_type": "markdown",
   "metadata": {},
   "source": [
    "##### Read CREG025.L75 grid information "
   ]
  },
  {
   "cell_type": "code",
   "execution_count": 57,
   "metadata": {},
   "outputs": [
    {
     "data": {
      "text/plain": [
       "<xarray.Dataset>\n",
       "Dimensions:       (t: 1, x: 528, y: 603, z: 75)\n",
       "Dimensions without coordinates: t, x, y, z\n",
       "Data variables:\n",
       "    nav_lon       (y, x) float32 ...\n",
       "    nav_lat       (y, x) float32 ...\n",
       "    nav_lev       (z) float32 ...\n",
       "    time_counter  (t) float64 ...\n",
       "    mbathy        (t, y, x) int16 ...\n",
       "    misf          (t, y, x) int16 ...\n",
       "    isfdraft      (t, y, x) float32 ...\n",
       "    e3t_0         (t, z, y, x) float64 ...\n",
       "    e3u_0         (t, z, y, x) float64 ...\n",
       "    e3v_0         (t, z, y, x) float64 ...\n",
       "    e3w_0         (t, z, y, x) float64 ...\n",
       "    hdept         (t, y, x) float32 ...\n",
       "    hdepw         (t, y, x) float32 ...\n",
       "    gdept_1d      (t, z) float64 ...\n",
       "    gdepw_1d      (t, z) float64 ...\n",
       "    e3t_1d        (t, z) float64 ...\n",
       "    e3w_1d        (t, z) float64 ...\n",
       "Attributes:\n",
       "    file_name:  mesh_zgr.nc\n",
       "    TimeStamp:  08/08/2016 13:31:30 +0200"
      ]
     },
     "execution_count": 57,
     "metadata": {},
     "output_type": "execute_result"
    }
   ],
   "source": [
    "main_dir='/net/5lpo154/export/drakkar-h3/drakkar/CONFIGS/'\n",
    "grid_dir=main_dir+CONFIG+'/GRID/'\n",
    "\n",
    "# Mask of the grid\n",
    "ds_mask=xr.open_dataset(grid_dir+CONFCASE+'_byte_mask.nc')\n",
    "ds_mask\n",
    "\n",
    "# Horizontal mesh\n",
    "ds_mesh_hgr=xr.open_dataset(grid_dir+CONFCASE+'_mesh_hgr.nc')\n",
    "ds_mesh_hgr\n",
    "\n",
    "# Vertical mesh\n",
    "ds_mesh_zgr=xr.open_dataset(grid_dir+CONFCASE+'_mesh_zgr.nc')\n",
    "ds_mesh_zgr"
   ]
  },
  {
   "cell_type": "code",
   "execution_count": 58,
   "metadata": {},
   "outputs": [
    {
     "data": {
      "text/plain": [
       "<xarray.Dataset>\n",
       "Dimensions:   (x: 528, y: 603, z: 75)\n",
       "Coordinates:\n",
       "    gphif     (y, x) float32 25.4716 25.471653 25.471708 ... 55.095528 55.02518\n",
       "    glamf     (y, x) float32 -93.62534 -93.37534 ... 102.25591 102.051285\n",
       "    gphit     (y, x) float32 25.359825 25.359877 ... 55.021885 54.95175\n",
       "    glamt     (y, x) float32 -93.75031 -93.50031 ... 102.193756 101.988945\n",
       "Dimensions without coordinates: x, y, z\n",
       "Data variables:\n",
       "    Tarea     (y, x) float64 0.0 0.0 0.0 0.0 0.0 0.0 ... 0.0 0.0 0.0 0.0 0.0 0.0\n",
       "    Farea     (y, x) float64 0.0 0.0 0.0 0.0 0.0 0.0 ... 0.0 0.0 0.0 0.0 0.0 0.0\n",
       "    tmask2D   (y, x) int8 ...\n",
       "    e1v3D     (z, y, x) float64 2.51e+04 2.51e+04 2.51e+04 ... 1.52e+04 1.52e+04\n",
       "    e2u3D     (z, y, x) float64 2.487e+04 2.487e+04 ... 9.997e+03 9.943e+03\n",
       "    e1ve3v3D  (z, y, x) float64 2.569e+04 2.569e+04 ... 3.104e+06 3.105e+06\n",
       "    e2ue3u3D  (z, y, x) float64 2.545e+04 2.545e+04 ... 2.042e+06 2.031e+06"
      ]
     },
     "execution_count": 58,
     "metadata": {},
     "output_type": "execute_result"
    }
   ],
   "source": [
    "ds_grid=xr.Dataset()\n",
    "ds_grid\n",
    "#ds_grid['tmask2D']=(('time','z','y','x'),ds_mask['tmask'])\n",
    "ds_grid['Tarea']=ds_mask['tmask'][0,0,:,:]*ds_mesh_hgr['e1t'][0,:,:]*ds_mesh_hgr['e2t'][0,:,:]\n",
    "ds_grid['Farea']=ds_mask['fmask'][0,0,:,:]*ds_mesh_hgr['e1f'][0,:,:]*ds_mesh_hgr['e2f'][0,:,:]\n",
    "ds_grid['tmask2D']=ds_mask['tmask'].sel(z=0).squeeze()\n",
    "ds_grid.coords['gphif']=(('y','x'),ds_mesh_hgr['gphif'][0,:,:])\n",
    "ds_grid.coords['glamf']=(('y','x'),ds_mesh_hgr['glamf'][0,:,:])\n",
    "ds_grid.coords['gphit']=(('y','x'),ds_mesh_hgr['gphit'][0,:,:])\n",
    "ds_grid.coords['glamt']=(('y','x'),ds_mesh_hgr['glamt'][0,:,:])\n",
    "\n",
    "\n",
    "ds_grid['e1v3D'] = (('z','y','x'),np.tile(ds_mesh_hgr['e1v'][0,:,:].squeeze(),(75,1,1)))\n",
    "ds_grid['e2u3D'] = (('z','y','x'),np.tile(ds_mesh_hgr['e2u'][0,:,:].squeeze(),(75,1,1)))\n",
    "\n",
    "ds_grid['e1ve3v3D'] = (('z','y','x'),ds_grid['e1v3D']*ds_mesh_zgr['e3v_0'].squeeze())\n",
    "ds_grid['e2ue3u3D'] = (('z','y','x'),ds_grid['e2u3D']*ds_mesh_zgr['e3u_0'].squeeze())\n",
    "\n",
    "ds_grid\n",
    "#ds_grid['NS_Tarea']=np.tile(e1t,(e3t.shape[0],1,1))\n"
   ]
  },
  {
   "cell_type": "markdown",
   "metadata": {},
   "source": [
    "## Read the time series data "
   ]
  },
  {
   "cell_type": "code",
   "execution_count": 59,
   "metadata": {},
   "outputs": [
    {
     "name": "stdout",
     "output_type": "stream",
     "text": [
      "Wed Jan 16 21:18:13 UTC 2019\r\n"
     ]
    }
   ],
   "source": [
    "!date"
   ]
  },
  {
   "cell_type": "markdown",
   "metadata": {},
   "source": [
    "### Compute the ∆Q heat flux looses between the 3 meridional sections of the LargeFraWSC box "
   ]
  },
  {
   "cell_type": "code",
   "execution_count": 60,
   "metadata": {},
   "outputs": [],
   "source": [
    "# Ref experiment data\n",
    "DATA_PATH='/home/ctalandi/TOOLS/SSHFS/drakkarcomC/'+CONFIG+'/'+'CREG025.L75-'+case_Ref+'-MEAN/1m/'+RYEAR+'/'\n",
    "ds_RefgT=xr.open_mfdataset(DATA_PATH+'CREG025.L75-'+case_Ref+'_y*m*.1m_gridT.nc',autoclose=True)"
   ]
  },
  {
   "cell_type": "code",
   "execution_count": 61,
   "metadata": {},
   "outputs": [
    {
     "ename": "IOError",
     "evalue": "no files to open",
     "output_type": "error",
     "traceback": [
      "\u001b[0;31m\u001b[0m",
      "\u001b[0;31mIOError\u001b[0mTraceback (most recent call last)",
      "\u001b[0;32m<ipython-input-61-96b79126649b>\u001b[0m in \u001b[0;36m<module>\u001b[0;34m()\u001b[0m\n\u001b[1;32m      1\u001b[0m \u001b[0mDATA_PATH\u001b[0m\u001b[0;34m=\u001b[0m\u001b[0;34m'/home/ctalandi/TOOLS/SSHFS/drakkarcomC/'\u001b[0m\u001b[0;34m+\u001b[0m\u001b[0mCONFIG\u001b[0m\u001b[0;34m+\u001b[0m\u001b[0;34m'/'\u001b[0m\u001b[0;34m+\u001b[0m\u001b[0;34m'CREG025.L75-'\u001b[0m\u001b[0;34m+\u001b[0m\u001b[0mcase_Ref\u001b[0m\u001b[0;34m+\u001b[0m\u001b[0;34m'-MEAN/1m/'\u001b[0m\u001b[0;34m+\u001b[0m\u001b[0mRYEAR\u001b[0m\u001b[0;34m+\u001b[0m\u001b[0;34m'/'\u001b[0m\u001b[0;34m\u001b[0m\u001b[0m\n\u001b[0;32m----> 2\u001b[0;31m \u001b[0mds_RefgU\u001b[0m\u001b[0;34m=\u001b[0m\u001b[0mxr\u001b[0m\u001b[0;34m.\u001b[0m\u001b[0mopen_mfdataset\u001b[0m\u001b[0;34m(\u001b[0m\u001b[0mDATA_PATH\u001b[0m\u001b[0;34m+\u001b[0m\u001b[0;34m'CREG025.L75-'\u001b[0m\u001b[0;34m+\u001b[0m\u001b[0mcase_Ref\u001b[0m\u001b[0;34m+\u001b[0m\u001b[0;34m'_y*m*.1m_gridU.nc'\u001b[0m\u001b[0;34m,\u001b[0m\u001b[0mautoclose\u001b[0m\u001b[0;34m=\u001b[0m\u001b[0mTrue\u001b[0m\u001b[0;34m)\u001b[0m\u001b[0;34m\u001b[0m\u001b[0m\n\u001b[0m",
      "\u001b[0;32m/usr/local/lib/python2.7/dist-packages/xarray/backends/api.py\u001b[0m in \u001b[0;36mopen_mfdataset\u001b[0;34m(paths, chunks, concat_dim, compat, preprocess, engine, lock, data_vars, coords, autoclose, parallel, **kwargs)\u001b[0m\n\u001b[1;32m    603\u001b[0m \u001b[0;34m\u001b[0m\u001b[0m\n\u001b[1;32m    604\u001b[0m     \u001b[0;32mif\u001b[0m \u001b[0;32mnot\u001b[0m \u001b[0mpaths\u001b[0m\u001b[0;34m:\u001b[0m\u001b[0;34m\u001b[0m\u001b[0m\n\u001b[0;32m--> 605\u001b[0;31m         \u001b[0;32mraise\u001b[0m \u001b[0mIOError\u001b[0m\u001b[0;34m(\u001b[0m\u001b[0;34m'no files to open'\u001b[0m\u001b[0;34m)\u001b[0m\u001b[0;34m\u001b[0m\u001b[0m\n\u001b[0m\u001b[1;32m    606\u001b[0m \u001b[0;34m\u001b[0m\u001b[0m\n\u001b[1;32m    607\u001b[0m     \u001b[0;32mif\u001b[0m \u001b[0mlock\u001b[0m \u001b[0;32mis\u001b[0m \u001b[0mNone\u001b[0m\u001b[0;34m:\u001b[0m\u001b[0;34m\u001b[0m\u001b[0m\n",
      "\u001b[0;31mIOError\u001b[0m: no files to open"
     ]
    }
   ],
   "source": [
    "DATA_PATH='/home/ctalandi/TOOLS/SSHFS/drakkarcomC/'+CONFIG+'/'+'CREG025.L75-'+case_Ref+'-MEAN/1m/'+RYEAR+'/'\n",
    "ds_RefgU=xr.open_mfdataset(DATA_PATH+'CREG025.L75-'+case_Ref+'_y*m*.1m_gridU.nc',autoclose=True)"
   ]
  },
  {
   "cell_type": "code",
   "execution_count": null,
   "metadata": {},
   "outputs": [],
   "source": [
    "!date"
   ]
  },
  {
   "cell_type": "markdown",
   "metadata": {},
   "source": [
    "## Select the North_South section within the LargeFraWSC box"
   ]
  },
  {
   "cell_type": "code",
   "execution_count": null,
   "metadata": {},
   "outputs": [],
   "source": [
    "ds_diagsSecZY=xr.Dataset()  \n",
    "# Extreme North section of the Large FraWSC box \n",
    "SX_jloc_s=307 ; SX_jloc_e=346 ; SX_iloc_s=322  ;  SX_iloc_e=322\n",
    "  \n",
    "# Select the WSC northern section temperaure and velocitie\n",
    "ds_diagsSecZY['Ref_XS_FraWSC_T']= (('time_counter','z','y'),ds_RefgT['votemper'][:,:,SX_jloc_s:SX_jloc_e+1,SX_iloc_s])\n",
    "ds_diagsSecZY['Ref_XS_FraWSC_U']= (('time_counter','z','y'),ds_RefgU['vozocrtx'][:,:,SX_jloc_s:SX_jloc_e+1,SX_iloc_s])\n",
    "\n",
    "# Mask temperature using a 0°C temperature criteria \n",
    "Tcrit=0.\n",
    "ds_diagsSecZY['Ref_XS_FraWSC_Tmsk']=xr.where(ds_diagsSecZY['Ref_XS_FraWSC_T']<Tcrit,0.,ds_diagsSecZY['Ref_XS_FraWSC_T'])\n",
    "ds_diagsSecZY['Ref_XS_FraWSC_Umsk']=xr.where(ds_diagsSecZY['Ref_XS_FraWSC_T']<Tcrit,0.,ds_diagsSecZY['Ref_XS_FraWSC_U'])\n",
    "\n",
    "# Compute the time-mean field\n",
    "ds_diagsSecZY['Ref_XS_FraWSC_meanT']= (('z','y'),ds_diagsSecZY['Ref_XS_FraWSC_T'].mean(dim='time_counter'))\n",
    "ds_diagsSecZY['Ref_XS_FraWSC_meanU']= (('z','y'),ds_diagsSecZY['Ref_XS_FraWSC_U'].mean(dim='time_counter'))\n",
    "ds_diagsSecZY['Ref_XS_FraWSC_meanTmsk']=xr.where(ds_diagsSecZY['Ref_XS_FraWSC_meanT']<0.,np.nan,ds_diagsSecZY['Ref_XS_FraWSC_meanT'])\n",
    "\n",
    "# Select the vertical surface of the Northern section\n",
    "ds_diagsSecZY['Ref_XS_FraWSC_e2e3U']= (('z','y'),ds_grid['e2ue3u3D'][:,SX_jloc_s:SX_jloc_e+1,SX_iloc_s])\n"
   ]
  },
  {
   "cell_type": "code",
   "execution_count": null,
   "metadata": {},
   "outputs": [],
   "source": [
    "!date"
   ]
  },
  {
   "cell_type": "code",
   "execution_count": null,
   "metadata": {},
   "outputs": [],
   "source": [
    "# Control the location of the mask\n",
    "plt.figure(figsize=(20,10))\n",
    "plt.subplot(211)\n",
    "plt.pcolormesh(ds_diagsSecZY['Ref_XS_FraWSC_meanT'][::-1,:],vmin=-5., vmax=5.,cmap='seismic')\n",
    "CS1=plt.contour(ds_diagsSecZY['Ref_XS_FraWSC_meanT'][::-1,:],levels=[0.,2., 3.],colors='k',origin='lower',linestyles='solid')\n",
    "plt.title('Mean Temperature along the EXTREME NORTH section')\n",
    "plt.ylabel('Depth levels')\n",
    "plt.xlabel('Along section')\n",
    "plt.clabel(CS1, inline=True, fmt='%1.0f')\n",
    "\n",
    "\n",
    "plt.subplot(212)\n",
    "C=plt.pcolormesh(ds_diagsSecZY['Ref_XS_FraWSC_meanTmsk'][::-1,:],vmin=-5., vmax=5.,cmap='seismic')\n",
    "CS1=plt.contour(ds_diagsSecZY['Ref_XS_FraWSC_meanTmsk'][::-1,:],levels=[0.,2., 3.],colors='k',origin='lower',linestyles='solid')\n",
    "plt.title('Mean Temperature along the EXTREME NORTH section')\n",
    "plt.ylabel('Depth levels')\n",
    "plt.xlabel('Along section')\n",
    "plt.clabel(CS1, inline=True, fmt='%1.0f')\n",
    "cbar = plt.colorbar(C,format='%3.0f',orientation='horizontal',shrink=0.8, extend='both')\n",
    "cbar.set_label(r'[DegC]',fontsize=18)\n",
    "\n",
    "\n",
    "plt.savefig('./'+case_Ref+'_y'+RYEAR+'_TimeMean_Temp_LargeFraWSC_ZYSec.pdf')"
   ]
  },
  {
   "cell_type": "code",
   "execution_count": null,
   "metadata": {},
   "outputs": [],
   "source": [
    "!date"
   ]
  },
  {
   "cell_type": "markdown",
   "metadata": {},
   "source": [
    "### Compute the TIME-MEAN heat transport through the sections"
   ]
  },
  {
   "cell_type": "code",
   "execution_count": null,
   "metadata": {},
   "outputs": [],
   "source": [
    "# Compute the heat transport through the sections\n",
    "rho_swater=1027. # [J.kg.K-1] \n",
    "Cp=4160. # [J.kg.K-1]\n",
    "\n",
    "\n",
    "ds_diagsSecZY['Ref_XS_FraWSC_meanHflx']=rho_swater*Cp*ds_diagsSecZY['Ref_XS_FraWSC_e2e3U']* \\\n",
    "                                ds_diagsSecZY['Ref_XS_FraWSC_meanTmsk']*ds_diagsSecZY['Ref_XS_FraWSC_meanU']\n"
   ]
  },
  {
   "cell_type": "code",
   "execution_count": null,
   "metadata": {},
   "outputs": [],
   "source": [
    "!date"
   ]
  },
  {
   "cell_type": "markdown",
   "metadata": {},
   "source": [
    "### Check the way the calculation is done for the TIME-MEAN heat flux "
   ]
  },
  {
   "cell_type": "code",
   "execution_count": null,
   "metadata": {},
   "outputs": [],
   "source": [
    "\n",
    "plt.figure(figsize=(20,10))\n",
    "plt.subplot(211)\n",
    "plt.pcolormesh(ds_diagsSecZY['Ref_XS_FraWSC_meanU'][::-1,:]*1e2,vmin=-10., vmax=10.,cmap='seismic')\n",
    "CS1=plt.contour(ds_diagsSecZY['Ref_XS_FraWSC_meanU'][::-1,:]*1e2,levels=[0.,2., 3.],colors='k',origin='lower',linestyles='solid')\n",
    "plt.title('Mean Velocities along the EXTREME NORTH section')\n",
    "plt.ylabel('Depth levels')\n",
    "plt.xlabel('Along section')\n",
    "plt.clabel(CS1, inline=True, fmt='%1.0f')\n",
    "\n",
    "plt.subplot(212)\n",
    "m_scal=1e-9\n",
    "C=plt.pcolormesh(ds_diagsSecZY['Ref_XS_FraWSC_meanHflx'][::-1,:]*m_scal,vmin=-100,vmax=100,cmap='seismic')\n",
    "CS1=plt.contour(ds_diagsSecZY['Ref_XS_FraWSC_meanHflx'][::-1,:]*m_scal,levels=np.arange(-100.,100.,25.),colors='k',origin='lower',linestyles='solid')\n",
    "plt.title('Mean Heat hflx along the EXTREME NORTH section (GW)')\n",
    "plt.ylabel('Depth levels')\n",
    "plt.xlabel('Along section')\n",
    "plt.clabel(CS1, inline=True, fmt='%3.0f')\n",
    "cbar = plt.colorbar(C,format='%3.0f',orientation='horizontal',shrink=0.8, extend='both')\n",
    "cbar.set_label(r'[GW]',fontsize=18)\n",
    "\n",
    "plt.savefig('./'+case_Ref+'_y'+RYEAR+'_TimeMean_VHflx_LargeFraWSC_ZYSec.pdf')"
   ]
  },
  {
   "cell_type": "code",
   "execution_count": null,
   "metadata": {},
   "outputs": [],
   "source": [
    "!date"
   ]
  },
  {
   "cell_type": "markdown",
   "metadata": {},
   "source": [
    "### Compute & output the heat flux Time-series through the sections"
   ]
  },
  {
   "cell_type": "code",
   "execution_count": null,
   "metadata": {
    "scrolled": true
   },
   "outputs": [],
   "source": [
    "# Compute the heat transport through the sections\n",
    "rho_swater=1027. # [J.kg.K-1] \n",
    "Cp=4160. # [J.kg.K-1]\n",
    "\n",
    "ds_diagsSecZY['Ref_XS_FraWSC_Hflx']=rho_swater*Cp*ds_diagsSecZY['Ref_XS_FraWSC_e2e3U']* \\\n",
    "                                ds_diagsSecZY['Ref_XS_FraWSC_Tmsk']*ds_diagsSecZY['Ref_XS_FraWSC_U']\n",
    "\n",
    "ds_diagsSecZY['Ref_XS_FraWSC_Hflx_TiSe']= ds_diagsSecZY['Ref_XS_FraWSC_Hflx'].sum(dim=('z','y'))\n",
    "\n",
    "# Compute the volume through the 3 sections based on the T criteria defined above\n",
    "ds_diagsSecZY['Ref_XS_FraWSC_Vol']=ds_diagsSecZY['Ref_XS_FraWSC_e2e3U']*ds_diagsSecZY['Ref_XS_FraWSC_Umsk']\n",
    "ds_diagsSecZY['Ref_XS_FraWSC_Vol_TiSe']= ds_diagsSecZY['Ref_XS_FraWSC_Vol'].sum(dim=('z','y'))\n",
    "\n",
    "\n",
    "ds_diagsSecZY.to_netcdf('./'+case_Ref+'_y'+RYEAR+'_LargeFraWSC_TiSe_ZYSec.nc', unlimited_dims={'time':True})"
   ]
  },
  {
   "cell_type": "code",
   "execution_count": null,
   "metadata": {},
   "outputs": [],
   "source": [
    "!date"
   ]
  },
  {
   "cell_type": "code",
   "execution_count": null,
   "metadata": {},
   "outputs": [],
   "source": [
    "ds_diagsSecZY"
   ]
  },
  {
   "cell_type": "code",
   "execution_count": null,
   "metadata": {},
   "outputs": [],
   "source": [
    "monthly_time"
   ]
  },
  {
   "cell_type": "markdown",
   "metadata": {},
   "source": [
    "### Plot the heat flux Time-series through sections"
   ]
  },
  {
   "cell_type": "code",
   "execution_count": null,
   "metadata": {},
   "outputs": [],
   "source": [
    "\n",
    "monthly_time=pd.date_range(start=str(s_year)+'-01-01',end=str(e_year)+'-12-31',freq='M')\n",
    "\n",
    "m_alpha=1e-12\n",
    "plt.figure(figsize=(20,15))\n",
    "\n",
    "ax=plt.subplot(514)   ; \n",
    "ax.plot(monthly_time,(ds_diagsSecZY['Ref_XS_FraWSC_Hflx_TiSe'])*m_alpha, 'k')\n",
    "\n",
    "ax.plot(monthly_time,np.zeros(len(monthly_time))*m_alpha,'k')\n",
    "ax.set_xlim(str(s_year),str(e_year+1))\n",
    "ax.set_ylim(-120.,00.)\n",
    "plt.ylabel('Net Heat flux (TW) ')\n",
    "plt.title(r'Monthly mean ZYSec of Large FraWSC box')\n",
    "plt.grid(True)\n",
    "\n",
    "plt.savefig('./'+case_Ref+'_y'+RYEAR+'_TiSe_Hflx_LargeFraWSC_ZYSec.pdf')"
   ]
  },
  {
   "cell_type": "code",
   "execution_count": null,
   "metadata": {},
   "outputs": [],
   "source": [
    "!date"
   ]
  },
  {
   "cell_type": "code",
   "execution_count": null,
   "metadata": {},
   "outputs": [],
   "source": []
  }
 ],
 "metadata": {
  "anaconda-cloud": {},
  "kernelspec": {
   "display_name": "Python 2",
   "language": "python",
   "name": "python2"
  },
  "language_info": {
   "codemirror_mode": {
    "name": "ipython",
    "version": 2
   },
   "file_extension": ".py",
   "mimetype": "text/x-python",
   "name": "python",
   "nbconvert_exporter": "python",
   "pygments_lexer": "ipython2",
   "version": "2.7.12"
  }
 },
 "nbformat": 4,
 "nbformat_minor": 1
}
